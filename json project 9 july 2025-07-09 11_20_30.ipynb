{
 "cells": [
  {
   "cell_type": "code",
   "execution_count": 0,
   "metadata": {
    "application/vnd.databricks.v1+cell": {
     "cellMetadata": {
      "byteLimit": 2048000,
      "rowLimit": 10000
     },
     "inputWidgets": {},
     "nuid": "5fa2a9bd-73be-4e08-9d78-d38d05c87202",
     "showTitle": false,
     "tableResultSettingsMap": {},
     "title": ""
    }
   },
   "outputs": [
    {
     "output_type": "stream",
     "name": "stdout",
     "output_type": "stream",
     "text": [
      "+-------------------+-----+--------------------+-----------+------------+-------+\n|            address| name|         preferences|signup_date|subscription|user_id|\n+-------------------+-----+--------------------+-----------+------------+-------+\n|  {Chennai, 903618}|User1|{[Documentary, Co...| 2022-11-01|    Standard|     u1|\n|   {Mumbai, 438363}|User2|{[Action, Drama],...| 2022-02-06|    Standard|     u2|\n|{Hyderabad, 107835}|User3|{[Documentary, Ac...| 2022-01-21|     Premium|     u3|\n+-------------------+-----+--------------------+-----------+------------+-------+\nonly showing top 3 rows\n"
     ]
    }
   ],
   "source": [
    "%python\n",
    "spark.read.json(\"/Volumes/new_work/new_schema/new_volume/users_extended.json\",multiLine=True).show(3)"
   ]
  },
  {
   "cell_type": "code",
   "execution_count": 0,
   "metadata": {
    "application/vnd.databricks.v1+cell": {
     "cellMetadata": {},
     "inputWidgets": {},
     "nuid": "0f1b568c-bef7-422e-aac4-ceae8f9320ba",
     "showTitle": false,
     "tableResultSettingsMap": {},
     "title": ""
    }
   },
   "outputs": [],
   "source": [
    "# users_df=spark.read.option('multiline', True).json('/Volumes/regex_catalog/regex_schema/regex_volume/users_extended.json')\n",
    "\n",
    "# logs_df=spark.read.option('multiline', True).json('/Volumes/regex_catalog/regex_schema/regex_volume/viewing_logs_extended.json')\n",
    "\n",
    "\n",
    "\n",
    "#vedios_df=spark.read.option('multiline', True).json('/Volumes/regex_catalog/regex_schema/regex_volume/videos_extended.json')"
   ]
  },
  {
   "cell_type": "code",
   "execution_count": 0,
   "metadata": {
    "application/vnd.databricks.v1+cell": {
     "cellMetadata": {
      "byteLimit": 2048000,
      "rowLimit": 10000
     },
     "inputWidgets": {},
     "nuid": "0a8ece52-1222-4d45-9c79-8adfa093e7dc",
     "showTitle": false,
     "tableResultSettingsMap": {},
     "title": ""
    }
   },
   "outputs": [],
   "source": [
    "user_df = spark.read.json(\"/Volumes/new_work/new_schema/new_volume/users_extended.json\",multiLine=True)\n",
    "\n",
    "video_df = spark.read.json(\"/Volumes/new_work/new_schema/new_volume/videos_extended.json\",multiLine=True)\n",
    "\n",
    "logs_df = spark.read.json(\"/Volumes/new_work/new_schema/new_volume/viewing_logs_extended.json\",multiLine=True)\n"
   ]
  },
  {
   "cell_type": "code",
   "execution_count": 0,
   "metadata": {
    "application/vnd.databricks.v1+cell": {
     "cellMetadata": {
      "byteLimit": 2048000,
      "rowLimit": 10000
     },
     "inputWidgets": {},
     "nuid": "38537f34-6258-4646-8828-45ff7ee1fa5d",
     "showTitle": false,
     "tableResultSettingsMap": {},
     "title": ""
    }
   },
   "outputs": [
    {
     "output_type": "stream",
     "name": "stdout",
     "output_type": "stream",
     "text": [
      "+------------------------------+\n|preferences                   |\n+------------------------------+\n|{[Documentary, Comedy], false}|\n|{[Action, Drama], false}      |\n|{[Documentary, Action], true} |\n+------------------------------+\nonly showing top 3 rows\nroot\n |-- address: struct (nullable = true)\n |    |-- city: string (nullable = true)\n |    |-- zip: string (nullable = true)\n |-- name: string (nullable = true)\n |-- preferences: struct (nullable = true)\n |    |-- genres: array (nullable = true)\n |    |    |-- element: string (containsNull = true)\n |    |-- notifications: boolean (nullable = true)\n |-- signup_date: string (nullable = true)\n |-- subscription: string (nullable = true)\n |-- user_id: string (nullable = true)\n\n"
     ]
    }
   ],
   "source": [
    "user_df.select(\"preferences\").show(3, False)\n",
    "\n",
    "\n",
    "user_df.printSchema()"
   ]
  },
  {
   "cell_type": "code",
   "execution_count": 0,
   "metadata": {
    "application/vnd.databricks.v1+cell": {
     "cellMetadata": {
      "byteLimit": 2048000,
      "rowLimit": 10000
     },
     "inputWidgets": {},
     "nuid": "c2702dac-8d8d-40c8-8f39-8d885f50a106",
     "showTitle": false,
     "tableResultSettingsMap": {},
     "title": ""
    }
   },
   "outputs": [
    {
     "output_type": "stream",
     "name": "stdout",
     "output_type": "stream",
     "text": [
      "root\n |-- address: struct (nullable = true)\n |    |-- city: string (nullable = true)\n |    |-- zip: string (nullable = true)\n |-- name: string (nullable = true)\n |-- preferences: struct (nullable = true)\n |    |-- genres: array (nullable = true)\n |    |    |-- element: string (containsNull = true)\n |    |-- notifications: boolean (nullable = true)\n |-- signup_date: string (nullable = true)\n |-- subscription: string (nullable = true)\n |-- user_id: string (nullable = true)\n\nroot\n |-- cast: array (nullable = true)\n |    |-- element: struct (containsNull = true)\n |    |    |-- name: string (nullable = true)\n |    |    |-- role: string (nullable = true)\n |-- duration: long (nullable = true)\n |-- genre: string (nullable = true)\n |-- ratings: struct (nullable = true)\n |    |-- average: double (nullable = true)\n |    |-- votes: long (nullable = true)\n |-- title: string (nullable = true)\n |-- video_id: string (nullable = true)\n\nroot\n |-- device: struct (nullable = true)\n |    |-- app_version: string (nullable = true)\n |    |-- os: string (nullable = true)\n |    |-- type: string (nullable = true)\n |-- user_id: string (nullable = true)\n |-- video_id: string (nullable = true)\n |-- view_date: string (nullable = true)\n |-- watched_minutes: long (nullable = true)\n\n"
     ]
    }
   ],
   "source": [
    "user_df.printSchema()\n",
    "video_df.printSchema()\n",
    "logs_df.printSchema()"
   ]
  },
  {
   "cell_type": "code",
   "execution_count": 0,
   "metadata": {
    "application/vnd.databricks.v1+cell": {
     "cellMetadata": {
      "byteLimit": 2048000,
      "rowLimit": 10000
     },
     "inputWidgets": {},
     "nuid": "a8318bcf-ed55-4c7f-ba60-9356adfca3b8",
     "showTitle": false,
     "tableResultSettingsMap": {},
     "title": ""
    }
   },
   "outputs": [
    {
     "output_type": "stream",
     "name": "stdout",
     "output_type": "stream",
     "text": [
      "+-------+-----+-----------+------------+---------+------+---------------------+---------------------+\n|user_id|name |signup_date|subscription|city     |zip   |preferences_genres   |notifications_enabled|\n+-------+-----+-----------+------------+---------+------+---------------------+---------------------+\n|u1     |User1|2022-11-01 |Standard    |Chennai  |903618|[Documentary, Comedy]|false                |\n|u2     |User2|2022-02-06 |Standard    |Mumbai   |438363|[Action, Drama]      |false                |\n|u3     |User3|2022-01-21 |Premium     |Hyderabad|107835|[Documentary, Action]|true                 |\n|u4     |User4|2022-03-04 |Premium     |Hyderabad|528387|[Thriller, Action]   |false                |\n|u5     |User5|2022-11-29 |Standard    |Delhi    |425817|[Action, Thriller]   |true                 |\n+-------+-----+-----------+------------+---------+------+---------------------+---------------------+\nonly showing top 5 rows\n"
     ]
    }
   ],
   "source": [
    "from pyspark.sql.functions import col, explode\n",
    "\n",
    "users_flat = user_df.select(\n",
    "    \"user_id\",\n",
    "    \"name\",\n",
    "    \"signup_date\",\n",
    "    \"subscription\",\n",
    "    col(\"address.city\").alias(\"city\"),\n",
    "    col(\"address.zip\").alias(\"zip\"),\n",
    "    col(\"preferences.genres\").alias(\"preferences_genres\"),\n",
    "    col(\"preferences.notifications\").alias(\"notifications_enabled\")\n",
    "\n",
    ")\n",
    "\n",
    "users_flat.show(5, truncate =False)"
   ]
  },
  {
   "cell_type": "code",
   "execution_count": 0,
   "metadata": {
    "application/vnd.databricks.v1+cell": {
     "cellMetadata": {
      "byteLimit": 2048000,
      "rowLimit": 10000
     },
     "inputWidgets": {},
     "nuid": "a128c61f-8531-400d-bcf6-385fda51625f",
     "showTitle": false,
     "tableResultSettingsMap": {},
     "title": ""
    }
   },
   "outputs": [
    {
     "output_type": "stream",
     "name": "stdout",
     "output_type": "stream",
     "text": [
      "+--------+------+--------+--------+--------------+----------+----------+----------+\n|video_id|title |genre   |duration|average_rating|vote_count|actor_name|actor_role|\n+--------+------+--------+--------+--------------+----------+----------+----------+\n|v1      |Video1|Thriller|124     |2.4           |1361      |Actor6    |Supporting|\n|v1      |Video1|Thriller|124     |2.4           |1361      |Actor6    |Supporting|\n|v2      |Video2|Drama   |58      |4.0           |1787      |Actor16   |Lead      |\n|v2      |Video2|Drama   |58      |4.0           |1787      |Actor12   |Lead      |\n|v3      |Video3|Thriller|175     |3.8           |1741      |Actor12   |Lead      |\n+--------+------+--------+--------+--------------+----------+----------+----------+\nonly showing top 5 rows\n"
     ]
    }
   ],
   "source": [
    "\n",
    "\n",
    "# Explod cast array and flaten table\n",
    "\n",
    "video_flat = video_df.select(\n",
    "    \"video_id\",\n",
    "    \"title\",\n",
    "    \"genre\",\n",
    "    \"duration\",\n",
    "    col(\"ratings.average\").alias(\"average_rating\"),\n",
    "    col(\"ratings.votes\").alias(\"vote_count\"),\n",
    "    explode(\"cast\").alias(\"cast_member\")\n",
    "\n",
    ").select(\n",
    "    \"video_id\",\"title\",\"genre\",\"duration\",\"average_rating\",\"vote_count\",\n",
    "    col(\"cast_member.name\").alias(\"actor_name\"),\n",
    "    col(\"cast_member.role\").alias(\"actor_role\")\n",
    "\n",
    ")\n",
    "video_flat.show(5, truncate =False)\n"
   ]
  },
  {
   "cell_type": "code",
   "execution_count": 0,
   "metadata": {
    "application/vnd.databricks.v1+cell": {
     "cellMetadata": {
      "byteLimit": 2048000,
      "rowLimit": 10000
     },
     "inputWidgets": {},
     "nuid": "012aa6ff-60bd-41e7-84f7-da9c40acc268",
     "showTitle": false,
     "tableResultSettingsMap": {},
     "title": ""
    }
   },
   "outputs": [
    {
     "output_type": "stream",
     "name": "stdout",
     "output_type": "stream",
     "text": [
      "+-----+-----------+-------+------+-----------+------------+------------+-------+\n| name|signup_date|   city|   zip|     genres|notification|subscription|user_id|\n+-----+-----------+-------+------+-----------+------------+------------+-------+\n|User1| 2022-11-01|Chennai|903618|Documentary|       false|    Standard|     u1|\n|User1| 2022-11-01|Chennai|903618|     Comedy|       false|    Standard|     u1|\n|User2| 2022-02-06| Mumbai|438363|     Action|       false|    Standard|     u2|\n+-----+-----------+-------+------+-----------+------------+------------+-------+\nonly showing top 3 rows\n"
     ]
    }
   ],
   "source": [
    "\n",
    "\n",
    "users_flat= user_df.select(\n",
    "    \"name\",\n",
    "    \"signup_date\",\n",
    "    col(\"address.city\").alias(\"city\"),\n",
    "    col(\"address.zip\").alias(\"zip\"),\n",
    "    explode(f.col(\"preferences.genres\")).alias(\"genres\"),\n",
    "    col(\"preferences.notifications\").alias(\"notification\"),\n",
    "    \"subscription\",\n",
    "    \"user_id\"\n",
    ")\n",
    "users_flat.show(3)"
   ]
  },
  {
   "cell_type": "code",
   "execution_count": 0,
   "metadata": {
    "application/vnd.databricks.v1+cell": {
     "cellMetadata": {
      "byteLimit": 2048000,
      "rowLimit": 10000
     },
     "inputWidgets": {},
     "nuid": "9d9a076e-be1d-4b0f-b1f0-57e75ef37f28",
     "showTitle": false,
     "tableResultSettingsMap": {},
     "title": ""
    }
   },
   "outputs": [
    {
     "output_type": "stream",
     "name": "stdout",
     "output_type": "stream",
     "text": [
      "+-------+--------+----------+---------------+-----------+-------+-----------+\n|user_id|video_id| view_date|watched_minutes|app_version|     os|device_type|\n+-------+--------+----------+---------------+-----------+-------+-----------+\n|    u10|      v5|2023-05-25|             63|      4.1.7|Windows|     Tablet|\n|    u18|     v79|2023-04-19|             70|      1.6.8|    iOS|         TV|\n|    u44|     v23|2023-04-14|            105|      5.7.0|    iOS|     Laptop|\n+-------+--------+----------+---------------+-----------+-------+-----------+\nonly showing top 3 rows\n"
     ]
    }
   ],
   "source": [
    "# root\n",
    "#  |-- device: struct (nullable = true)\n",
    "#  |    |-- app_version: string (nullable = true)\n",
    "#  |    |-- os: string (nullable = true)\n",
    "#  |    |-- type: string (nullable = true)\n",
    "#  |-- user_id: string (nullable = true)\n",
    "#  |-- video_id: string (nullable = true)\n",
    "#  |-- view_date: string (nullable = true)\n",
    "#  |-- watched_minutes: long (nullable = true)\n",
    "\n",
    "\n",
    "view_log = logs_df.select(\n",
    "    \"user_id\",\n",
    "    \"video_id\",\n",
    "    \"view_date\",\n",
    "    \"watched_minutes\",\n",
    "    col(\"device.app_version\").alias(\"app_version\"),\n",
    "    col(\"device.os\").alias(\"os\"),\n",
    "    col(\"device.type\").alias(\"device_type\")\n",
    "\n",
    "\n",
    ")\n",
    "\n",
    "view_log.show(3)"
   ]
  },
  {
   "cell_type": "code",
   "execution_count": 0,
   "metadata": {
    "application/vnd.databricks.v1+cell": {
     "cellMetadata": {
      "byteLimit": 2048000,
      "rowLimit": 10000
     },
     "inputWidgets": {},
     "nuid": "8f4705ec-543b-473a-8c2b-c6c10dd0eba7",
     "showTitle": false,
     "tableResultSettingsMap": {},
     "title": ""
    }
   },
   "outputs": [
    {
     "output_type": "stream",
     "name": "stdout",
     "output_type": "stream",
     "text": [
      "+-----------+-------+-----------+----------------+\n|device_type|     os|total_views|total_watch_time|\n+-----------+-------+-----------+----------------+\n|     Mobile|Android|         62|            3901|\n|     Laptop|Android|         56|            3871|\n|     Tablet|    iOS|         56|            3121|\n|     Laptop|Windows|         54|            2493|\n|     Tablet|Windows|         53|            2835|\n|     Laptop|  Linux|         53|            2447|\n|     Tablet|  Linux|         53|            3226|\n|     Laptop|  macOS|         53|            2336|\n|     Mobile|  Linux|         53|            2587|\n|     Laptop|    iOS|         52|            2848|\n|         TV|Android|         51|            2716|\n|         TV|  macOS|         50|            2800|\n|     Tablet|Android|         49|            2620|\n|     Tablet|  macOS|         48|            2033|\n|     Mobile|  macOS|         46|            2758|\n|         TV|Windows|         44|            2331|\n|         TV|  Linux|         43|            2287|\n|         TV|    iOS|         42|            2016|\n|     Mobile|Windows|         41|            2092|\n|     Mobile|    iOS|         41|            2289|\n+-----------+-------+-----------+----------------+\n\n"
     ]
    }
   ],
   "source": [
    "#Goal :- Understand witch divces and os Cobinations dominates user engagement\n",
    "\n",
    "from pyspark.sql.functions import count, sum\n",
    "\n",
    "device_usage = view_log.groupBy(\"device_type\", \"os\")\\\n",
    "    .agg(\n",
    "        count(\"*\").alias(\"total_views\"), \n",
    "        sum(\"watched_minutes\").alias(\"total_watch_time\")\n",
    "    ).orderBy(\"total_views\", ascending=False)\n",
    "\n",
    "device_usage.show()"
   ]
  },
  {
   "cell_type": "code",
   "execution_count": 0,
   "metadata": {
    "application/vnd.databricks.v1+cell": {
     "cellMetadata": {
      "byteLimit": 2048000,
      "rowLimit": 10000
     },
     "inputWidgets": {},
     "nuid": "289ecbe7-2dee-48d9-bfa7-399bf6991999",
     "showTitle": false,
     "tableResultSettingsMap": {},
     "title": ""
    }
   },
   "outputs": [
    {
     "output_type": "display_data",
     "data": {
      "image/png": "[encoded data removed]",
      "text/plain": [
       "<Figure size 1000x600 with 1 Axes>"
      ]
     },
     "metadata": {},
     "output_type": "display_data"
    }
   ],
   "source": [
    "#convert to pandas \n",
    "device_usage_pd = device_usage.toPandas()\n",
    "#bar chart\n",
    "import matplotlib.pyplot as plt\n",
    "  \n",
    "\n",
    "plt.figure(figsize=(10,6))\n",
    "device_usage_pd['label']=device_usage_pd['device_type'] + \"(\" + device_usage_pd['os']+\")\"\n",
    "plt.bar(device_usage_pd['label'],device_usage_pd['total_watch_time'],color='teal')\n",
    "plt.xticks(rotation=90)\n",
    "plt.xlabel(\"Device (OS)\")\n",
    "plt.ylabel(\"Total minutes\")\n",
    "plt.grid(True,axis='y',linestyle='--',alpha=0.6)\n",
    "plt.tight_layout()\n",
    "plt.xticks(rotation=45)\n",
    "plt.show()"
   ]
  },
  {
   "cell_type": "code",
   "execution_count": 0,
   "metadata": {
    "application/vnd.databricks.v1+cell": {
     "cellMetadata": {
      "byteLimit": 2048000,
      "rowLimit": 10000
     },
     "inputWidgets": {},
     "nuid": "90d29074-214a-46e1-8833-3f4b94706fbc",
     "showTitle": false,
     "tableResultSettingsMap": {},
     "title": ""
    }
   },
   "outputs": [
    {
     "output_type": "display_data",
     "data": {
      "text/html": [
       "<style scoped>\n",
       "  .table-result-container {\n",
       "    max-height: 300px;\n",
       "    overflow: auto;\n",
       "  }\n",
       "  table, th, td {\n",
       "    border: 1px solid black;\n",
       "    border-collapse: collapse;\n",
       "  }\n",
       "  th, td {\n",
       "    padding: 5px;\n",
       "  }\n",
       "  th {\n",
       "    text-align: left;\n",
       "  }\n",
       "</style><div class='table-result-container'><table class='table-result'><thead style='background-color: white'><tr><th>genre</th><th>total_minutes</th><th>total_users</th><th>weighted_popularity</th></tr></thead><tbody><tr><td>Sci-Fi</td><td>23048</td><td>49</td><td>470.3673469387755</td></tr><tr><td>Comedy</td><td>21668</td><td>50</td><td>433.36</td></tr><tr><td>Drama</td><td>15529</td><td>50</td><td>310.58</td></tr><tr><td>Action</td><td>14105</td><td>47</td><td>300.1063829787234</td></tr><tr><td>Thriller</td><td>13976</td><td>49</td><td>285.2244897959184</td></tr><tr><td>Documentary</td><td>9639</td><td>50</td><td>192.78</td></tr></tbody></table></div>"
      ]
     },
     "metadata": {
      "application/vnd.databricks.v1+output": {
       "addedWidgets": {},
       "aggData": [],
       "aggError": "",
       "aggOverflow": false,
       "aggSchema": [],
       "aggSeriesLimitReached": false,
       "aggType": "",
       "arguments": {},
       "columnCustomDisplayInfos": {},
       "data": [
        [
         "Sci-Fi",
         23048,
         49,
         470.3673469387755
        ],
        [
         "Comedy",
         21668,
         50,
         433.36
        ],
        [
         "Drama",
         15529,
         50,
         310.58
        ],
        [
         "Action",
         14105,
         47,
         300.1063829787234
        ],
        [
         "Thriller",
         13976,
         49,
         285.2244897959184
        ],
        [
         "Documentary",
         9639,
         50,
         192.78
        ]
       ],
       "datasetInfos": [],
       "dbfsResultPath": null,
       "isJsonSchema": true,
       "metadata": {},
       "overflow": false,
       "plotOptions": {
        "customPlotOptions": {},
        "displayType": "table",
        "pivotAggregation": null,
        "pivotColumns": null,
        "xColumns": null,
        "yColumns": null
       },
       "removedWidgets": [],
       "schema": [
        {
         "metadata": "{}",
         "name": "genre",
         "type": "\"string\""
        },
        {
         "metadata": "{}",
         "name": "total_minutes",
         "type": "\"long\""
        },
        {
         "metadata": "{}",
         "name": "total_users",
         "type": "\"long\""
        },
        {
         "metadata": "{}",
         "name": "weighted_popularity",
         "type": "\"double\""
        }
       ],
       "type": "table"
      }
     },
     "output_type": "display_data"
    }
   ],
   "source": [
    "# Genre Popularity Weighted by watch time\n",
    "\n",
    "\n",
    "#genre popularity Weighted by Watch Time\n",
    "from pyspark.sql.functions import col, sum, countDistinct\n",
    "\n",
    "genre_popularity = view_log.join(video_flat, view_log.video_id == video_flat.video_id) \\\n",
    "    .groupBy(\"genre\") \\\n",
    "    .agg(\n",
    "        sum(\"watched_minutes\").alias(\"total_minutes\"),\n",
    "        countDistinct(\"user_id\").alias(\"total_users\")\n",
    "    ) \\\n",
    "    .withColumn(\"weighted_popularity\", col(\"total_minutes\") / col(\"total_users\")) \\\n",
    "    .orderBy(\"weighted_popularity\", ascending=False)\n",
    "\n",
    "display(genre_popularity)\n"
   ]
  },
  {
   "cell_type": "code",
   "execution_count": 0,
   "metadata": {
    "application/vnd.databricks.v1+cell": {
     "cellMetadata": {},
     "inputWidgets": {},
     "nuid": "51a847a5-a5b0-4c08-a834-94e2554d0569",
     "showTitle": false,
     "tableResultSettingsMap": {},
     "title": ""
    }
   },
   "outputs": [],
   "source": []
  }
 ],
 "metadata": {
  "application/vnd.databricks.v1+notebook": {
   "computePreferences": null,
   "dashboards": [],
   "environmentMetadata": {
    "base_environment": "",
    "environment_version": "2"
   },
   "inputWidgetPreferences": null,
   "language": "python",
   "notebookMetadata": {
    "pythonIndentUnit": 4
   },
   "notebookName": "json project 9 july 2025-07-09 11:20:30",
   "widgets": {}
  },
  "language_info": {
   "name": "python"
  }
 },
 "nbformat": 4,
 "nbformat_minor": 0
}